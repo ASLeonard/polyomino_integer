{
 "cells": [
  {
   "cell_type": "code",
   "execution_count": 1,
   "metadata": {},
   "outputs": [],
   "source": [
    "import sys, os"
   ]
  },
  {
   "cell_type": "code",
   "execution_count": 2,
   "metadata": {},
   "outputs": [],
   "source": [
    "sys.path.append(\"/home/phd/Projects/Github/polyomino_integer/module\")\n",
    "import polyo"
   ]
  },
  {
   "cell_type": "code",
   "execution_count": 3,
   "metadata": {},
   "outputs": [],
   "source": [
    "parameters = dict()\n",
    "\n",
    "parameters[\"threshold\"] = 0.25\n",
    "parameters[\"phenotype_builds\"] = 100\n",
    "parameters[\"table_file\"] = os.getcwd() + \"/Table.txt\""
   ]
  },
  {
   "cell_type": "code",
   "execution_count": 4,
   "metadata": {},
   "outputs": [
    {
     "name": "stdout",
     "output_type": "stream",
     "text": [
      "Loading table from :  /home/phd/Projects/Github/polyomino_integer/notebooks/Table.txt\n"
     ]
    },
    {
     "data": {
      "text/plain": [
       "[(0, 0), (4, 0)]"
      ]
     },
     "execution_count": 4,
     "metadata": {},
     "output_type": "execute_result"
    }
   ],
   "source": [
    "polyo.AssemblePlasticGenotype([0,0,1,2,0,0,0,2], **parameters)"
   ]
  },
  {
   "cell_type": "code",
   "execution_count": 5,
   "metadata": {},
   "outputs": [
    {
     "name": "stdout",
     "output_type": "stream",
     "text": [
      "Loading table from :  /home/phd/Projects/Github/polyomino_integer/notebooks/Table.txt\n"
     ]
    },
    {
     "data": {
      "text/plain": [
       "{(0, 0): 1, (4, 0): 84}"
      ]
     },
     "execution_count": 5,
     "metadata": {},
     "output_type": "execute_result"
    }
   ],
   "source": [
    "polyo.AssemblePlasticGenotypeFrequency([0,0,1,2,0,0,0,2], **parameters)"
   ]
  },
  {
   "cell_type": "code",
   "execution_count": 6,
   "metadata": {},
   "outputs": [
    {
     "name": "stdout",
     "output_type": "stream",
     "text": [
      "Loading table from :  /home/phd/Projects/Github/polyomino_integer/notebooks/Table.txt\n"
     ]
    },
    {
     "data": {
      "text/plain": [
       "{(3, 0): 100}"
      ]
     },
     "execution_count": 6,
     "metadata": {},
     "output_type": "execute_result"
    }
   ],
   "source": [
    "polyo.AssemblePlasticGenotypeFrequency([0, 0, 0, 1, 0, 0, 2, 2], **parameters)"
   ]
  },
  {
   "cell_type": "code",
   "execution_count": 7,
   "metadata": {},
   "outputs": [
    {
     "name": "stdout",
     "output_type": "stream",
     "text": [
      "/home/phd/Projects/Github/polyomino_integer/notebooks/genomes_N2_C6_T25_B50.txt\n"
     ]
    }
   ],
   "source": [
    "p = dict()\n",
    "\n",
    "p[\"n_genes\"] = 2\n",
    "p[\"low_colour\"] = 0\n",
    "p[\"high_colour\"] = 6\n",
    "p[\"threshold\"] = 25\n",
    "p[\"phenotype_builds\"] = 50\n",
    "p[\"genome_file\"] = os.getcwd() + \"/genomes_N{n_genes}_C{high_colour}_T{threshold}_B{phenotype_builds}.txt\".format(**p)\n",
    "p[\"table_file\"] = os.getcwd() + \"/Table_N{n_genes}_C{high_colour}_T{threshold}_B{phenotype_builds}.txt\".format(**p)\n",
    "p[\"gpmap_file\"] = os.getcwd() + \"/gpmap_N{n_genes}_C{high_colour}_T{threshold}_B{phenotype_builds}.txt\".format(**p)\n",
    "p[\"threshold\"] = p[\"threshold\"] / 100\n",
    "\n",
    "# p[\"macarena\"] = [\"blueberry\", 2] # Test if kwargs is working\n",
    "\n",
    "print(p[\"genome_file\"])"
   ]
  },
  {
   "cell_type": "code",
   "execution_count": 8,
   "metadata": {},
   "outputs": [
    {
     "name": "stdout",
     "output_type": "stream",
     "text": [
      "Printing 9 genomes to file : /home/phd/Projects/Github/polyomino_integer/notebooks/genomes_N2_C6_T25_B50.txt\n"
     ]
    },
    {
     "data": {
      "text/plain": [
       "[[0, 0, 0, 1, 0, 0, 0, 2],\n",
       " [0, 0, 0, 1, 0, 0, 2, 2],\n",
       " [0, 0, 0, 1, 0, 2, 0, 2],\n",
       " [0, 0, 0, 1, 0, 2, 2, 2],\n",
       " [0, 0, 0, 1, 0, 2, 3, 4],\n",
       " [0, 0, 0, 1, 0, 3, 4, 2],\n",
       " [0, 0, 0, 1, 2, 2, 2, 2],\n",
       " [0, 0, 0, 1, 2, 2, 3, 4],\n",
       " [0, 0, 1, 2, 0, 0, 3, 4]]"
      ]
     },
     "execution_count": 8,
     "metadata": {},
     "output_type": "execute_result"
    }
   ],
   "source": [
    "polyo.MinimalGenomes(**p)"
   ]
  },
  {
   "cell_type": "code",
   "execution_count": 9,
   "metadata": {},
   "outputs": [
    {
     "name": "stdout",
     "output_type": "stream",
     "text": [
      "Loading genome from file : /home/phd/Projects/Github/polyomino_integer/notebooks/genomes_N2_C6_T25_B50.txt\n",
      "Mapping 9 genomes, building 50 th times\n",
      "Currently preprocessing genome : 0 out of 9\n",
      "The GP-Map has been built!\n",
      "Printing preprocessed genomes to file : /home/phd/Projects/Github/polyomino_integer/notebooks/gpmap_N2_C6_T25_B50.txt\n"
     ]
    }
   ],
   "source": [
    "polyo.MinimalMapVoid(**p)"
   ]
  },
  {
   "cell_type": "code",
   "execution_count": 10,
   "metadata": {},
   "outputs": [
    {
     "name": "stdout",
     "output_type": "stream",
     "text": [
      "Help on built-in function MinimalMapVoid in module polyo:\n",
      "\n",
      "MinimalMapVoid(...) method of builtins.PyCapsule instance\n",
      "    MinimalMapVoid(genomes: List[List[int]]=[], table_file: str='None', gpmap_file: str='None', genome_file: str='None', threshold: float=0.25, phenotype_builds: int=250, **kwargs) -> None\n",
      "    \n",
      "    Save the GP map built from a list of genomes or a genome file.\n",
      "\n"
     ]
    }
   ],
   "source": [
    "help(polyo.MinimalMapVoid)"
   ]
  },
  {
   "cell_type": "code",
   "execution_count": null,
   "metadata": {},
   "outputs": [],
   "source": []
  }
 ],
 "metadata": {
  "kernelspec": {
   "display_name": "polyomino_integer",
   "language": "python",
   "name": "polyomino_integer"
  },
  "language_info": {
   "codemirror_mode": {
    "name": "ipython",
    "version": 3
   },
   "file_extension": ".py",
   "mimetype": "text/x-python",
   "name": "python",
   "nbconvert_exporter": "python",
   "pygments_lexer": "ipython3",
   "version": "3.6.6"
  }
 },
 "nbformat": 4,
 "nbformat_minor": 2
}
